{
 "cells": [
  {
   "cell_type": "markdown",
   "metadata": {},
   "source": [
    "# 家系分析"
   ]
  },
  {
   "cell_type": "markdown",
   "metadata": {},
   "source": [
    "## 合并gvcf文件\n",
    "/DATA/sslyu/soft/gatk-4.1.0.0/gatk CombineGVCFs -R $ref_genome -L $panel --dbsnp $ref_snp -O $outdir/$sn.raw.combine.vcf $gvcf_argument # can't recognise Chinese\n",
    "/DATA/sslyu/soft/gatk-4.1.0.0/gatk GenotypeGVCFs -R $ref_genome -L $panel --dbsnp $ref_snp  -stand-call-conf 10  -O $outdir/$sn.raw.vcf  -V $outdir/$sn.raw.combine.vcf #GenotypeGVCFs is an analysis tool that performs complete re-calculation of genotypes and various associated annotations, as a joint analysis of the information provided as a cohort of GVCFs, and produces a VCF of raw calls that are usable for downstream analysis. CombineGVCFs is a utility tool that merges GVCF files for computational purposes, which involves some recalculation of annotations but it does not produce the information that is needed for downstream analysis.In GATK4, the GenotypeGVCFs tool can only take a single input, so if you have GVCFs from multiple samples (which is usually the case) you will need to combine them before feeding them to GenotypeGVCFs. Although there are several tools in the GATK and Picard toolkits that provide some type of VCF or GVCF merging functionality, for this use case only two of them can do the GVCF consolidation step correctly: GenomicsDBImport and CombineGVCFs."
   ]
  },
  {
   "cell_type": "code",
   "execution_count": null,
   "metadata": {},
   "outputs": [],
   "source": []
  }
 ],
 "metadata": {
  "kernelspec": {
   "display_name": "Python 3",
   "language": "python",
   "name": "python3"
  },
  "language_info": {
   "codemirror_mode": {
    "name": "ipython",
    "version": 3
   },
   "file_extension": ".py",
   "mimetype": "text/x-python",
   "name": "python",
   "nbconvert_exporter": "python",
   "pygments_lexer": "ipython3",
   "version": "3.7.3"
  }
 },
 "nbformat": 4,
 "nbformat_minor": 2
}
